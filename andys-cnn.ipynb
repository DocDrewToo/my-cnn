{
 "cells": [
  {
   "cell_type": "code",
   "execution_count": 2,
   "id": "22d9ab5f",
   "metadata": {},
   "outputs": [],
   "source": [
    "import numpy\n",
    "import tqdm\n",
    "import matplotlib\n",
    "import gzip\n",
    "import cv2\n",
    "import IPython"
   ]
  },
  {
   "cell_type": "code",
   "execution_count": 3,
   "id": "826f618b",
   "metadata": {},
   "outputs": [],
   "source": [
    "# Steps for a CNN\n",
    "# Input Layer, Repeat n times\n",
    "#   Convolution | Applying 'smart' filters/kernels/weights on the data\n",
    "#   Re-sizing or max pooling\n",
    "# Multi-layer Perceptron\n",
    "#   Fully-Connecter layer | Flatten / transform 3d to 2d (columns/rows into single column)\n",
    "#   Output layer (Softmax Activation Function) | The probability \n",
    "# Calculating Loss"
   ]
  },
  {
   "cell_type": "code",
   "execution_count": 4,
   "id": "a89074fa",
   "metadata": {},
   "outputs": [
    {
     "name": "stdout",
     "output_type": "stream",
     "text": [
      "Processing x images:  1\n",
      "Buffer Size:  784\n"
     ]
    },
    {
     "data": {
      "text/plain": [
       "'1D Array of Images, 1st entry'"
      ]
     },
     "metadata": {},
     "output_type": "display_data"
    },
    {
     "data": {
      "text/plain": [
       "0.0"
      ]
     },
     "metadata": {},
     "output_type": "display_data"
    },
    {
     "data": {
      "text/plain": [
       "'2D Array of Images, 1st 175 elements of 1st row'"
      ]
     },
     "metadata": {},
     "output_type": "display_data"
    },
    {
     "data": {
      "text/plain": [
       "array([  0.,   0.,   0.,   0.,   0.,   0.,   0.,   0.,   0.,   0.,   0.,\n",
       "         0.,   0.,   0.,   0.,   0.,   0.,   0.,   0.,   0.,   0.,   0.,\n",
       "         0.,   0.,   0.,   0.,   0.,   0.,   0.,   0.,   0.,   0.,   0.,\n",
       "         0.,   0.,   0.,   0.,   0.,   0.,   0.,   0.,   0.,   0.,   0.,\n",
       "         0.,   0.,   0.,   0.,   0.,   0.,   0.,   0.,   0.,   0.,   0.,\n",
       "         0.,   0.,   0.,   0.,   0.,   0.,   0.,   0.,   0.,   0.,   0.,\n",
       "         0.,   0.,   0.,   0.,   0.,   0.,   0.,   0.,   0.,   0.,   0.,\n",
       "         0.,   0.,   0.,   0.,   0.,   0.,   0.,   0.,   0.,   0.,   0.,\n",
       "         0.,   0.,   0.,   0.,   0.,   0.,   0.,   0.,   0.,   0.,   0.,\n",
       "         0.,   0.,   0.,   0.,   0.,   0.,   0.,   0.,   0.,   0.,   0.,\n",
       "         0.,   0.,   0.,   0.,   0.,   0.,   0.,   0.,   0.,   0.,   0.,\n",
       "         0.,   0.,   0.,   0.,   0.,   0.,   0.,   0.,   0.,   0.,   0.,\n",
       "         0.,   0.,   0.,   0.,   0.,   0.,   0.,   0.,   0.,   0.,   0.,\n",
       "         0.,   0.,   0.,   0.,   0.,   0.,   0.,   0.,   0.,   3.,  18.,\n",
       "        18.,  18., 126., 136., 175.,  26., 166., 255., 247., 127.,   0.,\n",
       "         0.,   0.,   0.,   0.,   0.,   0.,   0.,   0.,   0.,   0.],\n",
       "      dtype=float32)"
      ]
     },
     "metadata": {},
     "output_type": "display_data"
    },
    {
     "data": {
      "text/plain": [
       "'Dimensions of 2D array:'"
      ]
     },
     "metadata": {},
     "output_type": "display_data"
    },
    {
     "data": {
      "text/plain": [
       "(1, 784)"
      ]
     },
     "metadata": {},
     "output_type": "display_data"
    },
    {
     "data": {
      "text/plain": [
       "'3D Array of Images, 1st row, 1st set'"
      ]
     },
     "metadata": {},
     "output_type": "display_data"
    },
    {
     "data": {
      "text/plain": [
       "array([0., 0., 0., 0., 0., 0., 0., 0., 0., 0., 0., 0., 0., 0., 0., 0., 0.,\n",
       "       0., 0., 0., 0., 0., 0., 0., 0., 0., 0., 0.], dtype=float32)"
      ]
     },
     "metadata": {},
     "output_type": "display_data"
    },
    {
     "data": {
      "text/plain": [
       "'Dimensions of 3D array:'"
      ]
     },
     "metadata": {},
     "output_type": "display_data"
    },
    {
     "data": {
      "text/plain": [
       "(1, 28, 28)"
      ]
     },
     "metadata": {},
     "output_type": "display_data"
    },
    {
     "data": {
      "text/plain": [
       "'1st Image! '"
      ]
     },
     "metadata": {},
     "output_type": "display_data"
    },
    {
     "data": {
      "image/png": "[encoded data removed]",
      "text/plain": [
       "<IPython.core.display.Image object>"
      ]
     },
     "metadata": {
      "image/png": {
       "height": 224,
       "width": 224
      }
     },
     "output_type": "display_data"
    }
   ],
   "source": [
    "# Input Layer\n",
    "# Show me the images!\n",
    "'''\n",
    "    Extract images by reading the file bytestream. \n",
    "    Reshape the read values into a 3D matrix of dimensions [m, h, w].\n",
    "    Where m is the number of training examples.\n",
    "'''\n",
    "images_file_name='train-images-idx3-ubyte.gz'\n",
    "number_of_images=1\n",
    "image_height=28\n",
    "image_width=28\n",
    "\n",
    "print(\"Processing x images: \", number_of_images)\n",
    "\n",
    "# Get the training data\n",
    "with gzip.open(images_file_name) as bytestream:\n",
    "    bytestream.read(16)\n",
    "    buffer = bytestream.read( image_width * image_height * number_of_images )\n",
    "    print(\"Buffer Size: \",len(buffer))\n",
    "    \n",
    "    d1_array_of_images = numpy.frombuffer(buffer, dtype=numpy.uint8).astype(numpy.float32)\n",
    "    display(\"1D Array of Images, 1st entry\",d1_array_of_images[0])\n",
    "    \n",
    "    d2_array_of_images = d1_array_of_images.reshape(number_of_images, image_height * image_width)\n",
    "    display(\"2D Array of Images, 1st 175 elements of 1st row\", d2_array_of_images[0,:175])\n",
    "    display(\"Dimensions of 2D array:\",d2_array_of_images.shape)\n",
    "    \n",
    "    d3_array_of_images = d1_array_of_images.reshape(number_of_images, image_height, image_width)\n",
    "    display(\"3D Array of Images, 1st row, 1st set\", d3_array_of_images[0][0])\n",
    "    display(\"Dimensions of 3D array:\",d3_array_of_images.shape)\n",
    "    \n",
    "    number_of_images, image_height, image_width = d3_array_of_images.shape\n",
    "    \n",
    "    _,an_image = cv2.imencode('.png', d3_array_of_images[0])\n",
    "    IPython.display.display(\"1st Image! \", IPython.display.Image(data=an_image, width=224, height=224))\n",
    "    "
   ]
  },
  {
   "cell_type": "code",
   "execution_count": 5,
   "id": "5872cf0f",
   "metadata": {},
   "outputs": [
    {
     "name": "stdout",
     "output_type": "stream",
     "text": [
      "Buffer Size:  1\n"
     ]
    },
    {
     "data": {
      "text/plain": [
       "'Label of the 1st image: '"
      ]
     },
     "metadata": {},
     "output_type": "display_data"
    },
    {
     "data": {
      "text/plain": [
       "5"
      ]
     },
     "metadata": {},
     "output_type": "display_data"
    },
    {
     "data": {
      "text/plain": [
       "'2D Array of labels, 1st row, 1st image'"
      ]
     },
     "metadata": {},
     "output_type": "display_data"
    },
    {
     "data": {
      "text/plain": [
       "array([5])"
      ]
     },
     "metadata": {},
     "output_type": "display_data"
    }
   ],
   "source": [
    "# Get the labeled data\n",
    "label_file_name='train-labels-idx1-ubyte.gz'\n",
    "with gzip.open(label_file_name) as bytestream:\n",
    "    bytestream.read(8)\n",
    "    buffer = bytestream.read( number_of_images )\n",
    "    print(\"Buffer Size: \",len(buffer))\n",
    "    \n",
    "    d1_array_of_labels = numpy.frombuffer(buffer, dtype=numpy.uint8).astype(numpy.int64)\n",
    "    display(\"Label of the 1st image: \",d1_array_of_labels[0])\n",
    "\n",
    "    d2_array_of_labels = d1_array_of_labels.reshape(number_of_images, 1)\n",
    "    display(\"2D Array of labels, 1st row, 1st image\", d2_array_of_labels[0])"
   ]
  },
  {
   "cell_type": "markdown",
   "id": "b5baf4bc",
   "metadata": {},
   "source": [
    "# Starting our first Hidden Layer\n",
    "![hidden layer](images/Hidden_Layer.png)\n",
    "\n"
   ]
  },
  {
   "cell_type": "code",
   "execution_count": 7,
   "id": "f7b954ea",
   "metadata": {},
   "outputs": [
    {
     "data": {
      "text/plain": [
       "'Standard Deviation of filter: '"
      ]
     },
     "metadata": {},
     "output_type": "display_data"
    },
    {
     "data": {
      "text/plain": [
       "0.07071067811865475"
      ]
     },
     "metadata": {},
     "output_type": "display_data"
    },
    {
     "data": {
      "text/plain": [
       "'Base filter: '"
      ]
     },
     "metadata": {},
     "output_type": "display_data"
    },
    {
     "data": {
      "text/plain": [
       "array([[[[ 8.00389009e-02,  1.00975243e-01, -1.58887419e-03,\n",
       "           1.73560884e-02,  1.09669763e-01],\n",
       "         [-2.12085100e-02,  1.18187741e-02,  3.65133919e-02,\n",
       "          -3.23199110e-02,  8.35411818e-03],\n",
       "         [ 9.45987245e-02, -1.32308808e-01, -4.45794751e-02,\n",
       "          -3.85440356e-02,  2.34687359e-02],\n",
       "         [-2.86901972e-02,  8.31949048e-02, -9.91831110e-02,\n",
       "          -9.48656620e-02, -2.29602932e-01],\n",
       "         [-3.42802765e-02, -1.40294117e-01, -1.74743056e-01,\n",
       "          -4.30015119e-02, -1.25518239e-02]]],\n",
       "\n",
       "\n",
       "       [[[ 1.25996443e-01,  6.54658028e-03,  1.29096478e-01,\n",
       "          -1.23183962e-01,  3.86475310e-02],\n",
       "         [-6.76861798e-02,  6.85609252e-02, -2.03358012e-02,\n",
       "           1.04416208e-01, -7.96828379e-03],\n",
       "         [-1.13935905e-01, -8.96711270e-02, -2.04155076e-02,\n",
       "          -3.15639420e-03,  8.53147521e-02],\n",
       "         [-3.46561555e-02,  3.69570779e-02,  1.52056587e-02,\n",
       "           3.15506474e-02,  4.92326644e-02],\n",
       "         [-1.67421320e-03, -8.24349970e-02,  6.54416197e-02,\n",
       "           1.87508637e-01, -1.72426698e-01]]],\n",
       "\n",
       "\n",
       "       [[[ 4.97275427e-02, -4.01573658e-02,  6.53645918e-03,\n",
       "          -6.17122101e-02,  1.59223702e-02],\n",
       "         [ 7.56021484e-02,  2.25223218e-02, -7.57202429e-03,\n",
       "           1.68436445e-02,  4.26827576e-02],\n",
       "         [ 4.56299390e-03,  9.70080787e-02, -8.59992183e-02,\n",
       "          -3.31701924e-02,  1.06002615e-02],\n",
       "         [-8.38604744e-02, -3.87554847e-02, -5.11986732e-02,\n",
       "           2.86825632e-02,  6.39770262e-02],\n",
       "         [-1.22975286e-01, -1.55590015e-02, -4.80233180e-02,\n",
       "           1.13334145e-01, -1.18961435e-01]]],\n",
       "\n",
       "\n",
       "       [[[-4.45215204e-02,  1.22539975e-01,  4.26817907e-02,\n",
       "          -4.97485725e-02,  7.89438474e-02],\n",
       "         [-6.06091398e-02, -3.68875395e-02,  5.88037490e-02,\n",
       "           4.10764328e-02, -6.04546388e-02],\n",
       "         [-6.29011455e-03, -1.50277172e-01,  1.41893746e-01,\n",
       "           1.79461126e-02, -1.40650211e-01],\n",
       "         [ 6.51739578e-03,  9.49788479e-03, -8.58294409e-02,\n",
       "          -7.43438257e-02, -5.36914452e-02],\n",
       "         [-4.85435284e-02, -3.37892971e-02, -4.81085165e-02,\n",
       "          -2.83559732e-02,  3.36764098e-02]]],\n",
       "\n",
       "\n",
       "       [[[-1.39556090e-02,  2.41124103e-02,  4.82721708e-02,\n",
       "          -1.14682640e-01, -5.90450218e-02],\n",
       "         [-2.34209799e-02, -1.05512308e-01,  6.45036066e-02,\n",
       "          -2.81944662e-02, -1.22286091e-01],\n",
       "         [-1.07164538e-02, -2.35950222e-02, -6.06467615e-02,\n",
       "          -4.85371465e-02,  1.36256760e-01],\n",
       "         [-1.34715474e-01, -3.59392384e-02, -1.60978890e-03,\n",
       "           8.85026735e-03, -9.95604958e-02],\n",
       "         [ 1.60403445e-02,  5.51373776e-02, -1.21324648e-03,\n",
       "           1.22632588e-01,  1.17514881e-01]]],\n",
       "\n",
       "\n",
       "       [[[-2.45135273e-02, -9.68377501e-02, -3.43541297e-02,\n",
       "          -7.55425164e-02, -8.10057360e-02],\n",
       "         [ 1.18619280e-01,  6.04009076e-02, -6.59506436e-02,\n",
       "           1.48652624e-01, -4.31655743e-02],\n",
       "         [ 1.22134523e-01, -1.57717335e-01, -1.33252345e-01,\n",
       "          -3.92211867e-02,  4.40380739e-02],\n",
       "         [-4.22729599e-02, -7.78859753e-02,  3.30075063e-02,\n",
       "          -8.05118471e-02,  2.23066081e-02],\n",
       "         [ 4.83224251e-02, -5.76005645e-03, -3.01790090e-02,\n",
       "           2.10057798e-01,  3.77616895e-02]]],\n",
       "\n",
       "\n",
       "       [[[-5.25580554e-02, -9.02855068e-02,  5.83509839e-02,\n",
       "          -6.45063529e-02, -5.67300196e-02],\n",
       "         [ 1.55179910e-02, -6.28566482e-02, -3.61530442e-02,\n",
       "          -7.64961007e-02, -5.43489061e-02],\n",
       "         [ 5.05889755e-03,  6.93724076e-02,  5.11066190e-02,\n",
       "           2.21256436e-03, -8.43424203e-02],\n",
       "         [-9.24036641e-02,  3.18274131e-02,  1.97818426e-02,\n",
       "           9.23828041e-03,  7.16853020e-02],\n",
       "         [-7.78383761e-02, -6.90292642e-04, -1.20604728e-01,\n",
       "          -1.27812160e-01,  4.48577387e-02]]],\n",
       "\n",
       "\n",
       "       [[[ 8.06120280e-02, -4.04721764e-02, -2.49584699e-03,\n",
       "           1.19035361e-01,  1.50647392e-02],\n",
       "         [-3.60639311e-02, -1.11363419e-01, -3.61131081e-02,\n",
       "          -3.07965675e-02, -5.24115122e-02],\n",
       "         [ 2.74680320e-02, -8.64654552e-02,  4.74731257e-02,\n",
       "          -2.26074312e-02,  2.21587832e-02],\n",
       "         [ 1.98609663e-04, -1.07745390e-02,  7.51960765e-04,\n",
       "          -5.56506786e-02, -7.27672180e-02],\n",
       "         [ 1.07810682e-01,  3.65968329e-02,  9.34354960e-02,\n",
       "          -2.92761126e-02,  1.56624501e-02]]]])"
      ]
     },
     "metadata": {},
     "output_type": "display_data"
    },
    {
     "data": {
      "text/plain": [
       "'Base Filter Shape'"
      ]
     },
     "metadata": {},
     "output_type": "display_data"
    },
    {
     "data": {
      "text/plain": [
       "(8, 1, 5, 5)"
      ]
     },
     "metadata": {},
     "output_type": "display_data"
    },
    {
     "data": {
      "text/plain": [
       "'Double checking base filter dimensions'"
      ]
     },
     "metadata": {},
     "output_type": "display_data"
    },
    {
     "data": {
      "text/plain": [
       "(8, 1, 5, 5)"
      ]
     },
     "metadata": {},
     "output_type": "display_data"
    },
    {
     "data": {
      "text/plain": [
       "\"Let's skinny down and zero out filter1 (as a bias per filter): \""
      ]
     },
     "metadata": {},
     "output_type": "display_data"
    },
    {
     "data": {
      "text/plain": [
       "(8, 1)"
      ]
     },
     "metadata": {},
     "output_type": "display_data"
    },
    {
     "data": {
      "text/plain": [
       "array([[0.],\n",
       "       [0.],\n",
       "       [0.],\n",
       "       [0.],\n",
       "       [0.],\n",
       "       [0.],\n",
       "       [0.],\n",
       "       [0.]])"
      ]
     },
     "metadata": {},
     "output_type": "display_data"
    }
   ],
   "source": [
    "##   Initializing 'smart' filters/kernels of the 1st (hidden) layer (beyond the image layer)\n",
    "\n",
    "filter1_nuron_size = 8\n",
    "filter1_depth = 1\n",
    "filter1_columns = 5 \n",
    "filter1_rows = 5 \n",
    "filter1_dimensions= [filter1_nuron_size, filter1_depth, filter1_columns, filter1_rows]\n",
    "\n",
    "# '''  Randomize the filters  \n",
    "#     Initialize filter using a normal distribution with and a \n",
    "#     standard deviation inversely proportional the square root of the number of units\n",
    "# '''\n",
    "scale = 1.0\n",
    "standard_deviation = scale/numpy.sqrt(numpy.prod(filter1_dimensions))\n",
    "display(\"Standard Deviation of filter: \",standard_deviation)\n",
    "\n",
    "filter1 = numpy.random.normal(loc=0, scale=standard_deviation, size=filter1_dimensions)\n",
    "display(\"Base filter: \",filter1, \"Base Filter Shape\", numpy.shape(filter1))\n",
    "display(\"Double checking base filter dimensions\",filter1.shape)\n",
    "\n",
    "filter1_bias = numpy.zeros((filter1.shape[0],1))\n",
    "display(\"Let's skinny down and zero out filter1 (as a bias per filter): \", filter1_bias.shape, filter1_bias)\n"
   ]
  },
  {
   "cell_type": "code",
   "execution_count": 8,
   "id": "d2f2b475",
   "metadata": {},
   "outputs": [
    {
     "name": "stdout",
     "output_type": "stream",
     "text": [
      "Shape of 2d image array: total images: 1  pixels per image: 784\n"
     ]
    },
    {
     "data": {
      "text/plain": [
       "'Dimensions of output'"
      ]
     },
     "metadata": {},
     "output_type": "display_data"
    },
    {
     "data": {
      "text/plain": [
       "24"
      ]
     },
     "metadata": {},
     "output_type": "display_data"
    },
    {
     "data": {
      "text/plain": [
       "'Output layer1 dimensions:'"
      ]
     },
     "metadata": {},
     "output_type": "display_data"
    },
    {
     "data": {
      "text/plain": [
       "(8, 24, 24)"
      ]
     },
     "metadata": {},
     "output_type": "display_data"
    }
   ],
   "source": [
    "#Setting up our first convolution\n",
    "filter_stride = 1 #i.e. number of elements to shift over when applying the filter\n",
    "\n",
    "(num_of_images, pixels_per_image) = d2_array_of_images.shape\n",
    "print(\"Shape of 2d image array: total images:\",num_of_images, \" pixels per image:\", pixels_per_image)\n",
    "\n",
    "filter_dimensions = int((image_height - filter1_columns ) / filter_stride)+1\n",
    "display(\"Dimensions of output\",filter_dimensions)\n",
    "\n",
    "layer1_images_3d = numpy.zeros((filter1_nuron_size,filter_dimensions,filter_dimensions))\n",
    "\n",
    "display(\"Output layer1 dimensions:\", numpy.shape(layer1_images_3d))"
   ]
  },
  {
   "cell_type": "markdown",
   "id": "6ed75c2e",
   "metadata": {},
   "source": [
    "# Convolution of our filter over the input image!\n",
    "![convolution gif](images/convolve-output.gif)\n",
    "\n",
    "## The matrix math involved \n",
    "## Sum ( Filter * image-array ) + Filter bias\n"
   ]
  },
  {
   "cell_type": "code",
   "execution_count": 9,
   "id": "3b9e402d",
   "metadata": {
    "scrolled": true
   },
   "outputs": [
    {
     "data": {
      "text/plain": [
       "'Output array shape after:'"
      ]
     },
     "metadata": {},
     "output_type": "display_data"
    },
    {
     "data": {
      "text/plain": [
       "(8, 24, 24)"
      ]
     },
     "metadata": {},
     "output_type": "display_data"
    },
    {
     "data": {
      "text/plain": [
       "'Did anything change in our array? '"
      ]
     },
     "metadata": {},
     "output_type": "display_data"
    },
    {
     "data": {
      "text/plain": [
       "array([[ 0.00000000e+00,  0.00000000e+00,  0.00000000e+00,\n",
       "         0.00000000e+00,  0.00000000e+00,  0.00000000e+00,\n",
       "         0.00000000e+00,  0.00000000e+00,  0.00000000e+00,\n",
       "         0.00000000e+00,  0.00000000e+00,  0.00000000e+00,\n",
       "         0.00000000e+00,  0.00000000e+00,  0.00000000e+00,\n",
       "         0.00000000e+00,  0.00000000e+00,  0.00000000e+00,\n",
       "         0.00000000e+00,  0.00000000e+00,  0.00000000e+00,\n",
       "         0.00000000e+00,  0.00000000e+00,  0.00000000e+00],\n",
       "       [ 0.00000000e+00,  0.00000000e+00,  0.00000000e+00,\n",
       "         0.00000000e+00,  0.00000000e+00,  0.00000000e+00,\n",
       "         0.00000000e+00,  0.00000000e+00, -3.76554717e-02,\n",
       "        -3.54937366e-01, -1.52418921e+00, -4.56621740e+00,\n",
       "        -8.12906697e+00, -1.34129526e+01, -3.32047390e+01,\n",
       "        -4.99107714e+01, -5.71809917e+01, -4.40958736e+01,\n",
       "        -5.27197288e+01, -8.09550450e+01, -9.00882526e+01,\n",
       "        -6.55864855e+01, -2.62845812e+01, -4.35359512e+00],\n",
       "       [ 0.00000000e+00,  0.00000000e+00,  0.00000000e+00,\n",
       "         0.00000000e+00, -3.76554717e-01, -1.74191102e+00,\n",
       "        -7.97021756e+00, -1.64746965e+01, -3.19496955e+01,\n",
       "        -5.62354858e+01, -7.47269375e+01, -9.47702956e+01,\n",
       "        -1.30598455e+02, -1.46415592e+02, -1.66679088e+02,\n",
       "        -1.26305504e+02, -1.44294477e+02, -1.50429783e+02,\n",
       "        -1.89132397e+02, -1.57685725e+02, -9.95451185e+01,\n",
       "        -4.61998492e+01, -1.21842032e+01, -5.83759274e+00],\n",
       "       [ 0.00000000e+00,  0.00000000e+00,  0.00000000e+00,\n",
       "        -6.15039372e-01, -1.19824961e+01, -3.30840565e+01,\n",
       "        -9.04915859e+01, -1.38685689e+02, -1.62678411e+02,\n",
       "        -1.84828933e+02, -1.91673949e+02, -2.01362059e+02,\n",
       "        -1.94082138e+02, -1.98947408e+02, -1.94734078e+02,\n",
       "        -1.92362294e+02, -1.58608457e+02, -1.37235306e+02,\n",
       "        -1.15205276e+02, -1.04271187e+02, -6.39615751e+01,\n",
       "        -1.86781007e+01,  4.95562097e+00,  1.01778654e+01],\n",
       "       [ 0.00000000e+00,  0.00000000e+00,  0.00000000e+00,\n",
       "        -1.14764765e+01, -6.21127299e+01, -1.01577306e+02,\n",
       "        -1.56987510e+02, -1.83978837e+02, -2.02267277e+02,\n",
       "        -2.12284694e+02, -2.18333831e+02, -2.15325875e+02,\n",
       "        -2.14295002e+02, -2.01916961e+02, -1.66106212e+02,\n",
       "        -1.46580538e+02, -7.88768899e+01, -5.71728336e+01,\n",
       "        -3.92695632e+01, -3.49907326e+01, -1.63995393e+01,\n",
       "        -1.97419456e+00,  5.12255218e+00,  3.36083759e+00],\n",
       "       [ 0.00000000e+00,  0.00000000e+00,  0.00000000e+00,\n",
       "        -2.98288473e+00, -4.90472451e+01, -9.21377570e+01,\n",
       "        -1.44534798e+02, -1.77770149e+02, -1.75858397e+02,\n",
       "        -1.91433341e+02, -1.95472992e+02, -1.72492330e+02,\n",
       "        -1.25635338e+02, -1.03505916e+02, -5.55488085e+01,\n",
       "        -4.30455036e+01,  1.98164458e+01,  5.05242631e+01,\n",
       "         4.12387387e+01,  3.19716656e+01,  4.20021460e+01,\n",
       "         4.47955615e+01,  3.29035568e+01,  8.80759578e+00],\n",
       "       [ 0.00000000e+00,  0.00000000e+00,  0.00000000e+00,\n",
       "         8.31789037e-01, -1.02276767e+01, -4.62096167e+01,\n",
       "        -4.97822211e+01, -9.74041685e+01, -9.34856428e+01,\n",
       "        -1.12285450e+02, -6.89915383e+01, -2.62402091e+01,\n",
       "         2.96352351e+01,  1.65831757e+01,  2.91486241e+01,\n",
       "         3.47276771e+01,  7.82598877e+01,  8.85946665e+01,\n",
       "         6.10670283e+01,  4.93465371e+01,  4.58335859e+01,\n",
       "         3.82311542e+01,  2.12428694e+01,  5.12248966e+00],\n",
       "       [ 0.00000000e+00,  0.00000000e+00,  0.00000000e+00,\n",
       "         5.52419250e+00,  3.00771442e+01,  2.48552755e+01,\n",
       "         3.02272053e+01,  1.07579614e+01, -2.45908818e+01,\n",
       "        -3.50991830e+01, -5.71566247e+01, -5.43091540e+00,\n",
       "         4.04470217e+01,  8.54810951e+01,  5.22510271e+01,\n",
       "         5.13093058e+01,  3.71649938e+01,  4.63718327e+01,\n",
       "         2.08423618e+01,  1.54310703e+01,  1.21558374e+01,\n",
       "         8.42021295e+00,  3.12151714e+00,  0.00000000e+00],\n",
       "       [ 0.00000000e+00,  0.00000000e+00,  0.00000000e+00,\n",
       "         1.97405573e+00,  2.49984171e+01,  3.05650454e+01,\n",
       "         3.18640394e+01,  3.14854371e+01, -3.22737985e+00,\n",
       "        -2.97309552e+01, -3.86185336e+01, -2.56001721e+01,\n",
       "         3.96832432e+01,  5.10858111e+01,  3.19180783e+01,\n",
       "         4.52563161e+01,  4.50127675e+01,  1.60232646e+01,\n",
       "         0.00000000e+00,  0.00000000e+00,  0.00000000e+00,\n",
       "         0.00000000e+00,  0.00000000e+00,  0.00000000e+00],\n",
       "       [ 0.00000000e+00,  0.00000000e+00,  0.00000000e+00,\n",
       "         0.00000000e+00,  8.77358101e+00,  1.86139277e+01,\n",
       "         1.38709798e+01,  3.99356303e+01,  6.93365862e+00,\n",
       "        -4.55494813e+01, -6.76510993e+01, -5.51495596e+01,\n",
       "        -3.38576923e+01, -2.29237718e+01, -4.74095449e+01,\n",
       "        -1.67141031e+01,  1.51492963e+01,  1.22917105e+01,\n",
       "         0.00000000e+00,  0.00000000e+00,  0.00000000e+00,\n",
       "         0.00000000e+00,  0.00000000e+00,  0.00000000e+00],\n",
       "       [ 0.00000000e+00,  0.00000000e+00,  0.00000000e+00,\n",
       "         0.00000000e+00,  0.00000000e+00,  1.53537668e+00,\n",
       "         3.52655000e-01,  1.83036338e+01,  2.54514492e+01,\n",
       "        -4.78235448e+01, -8.09776680e+01, -1.00152690e+02,\n",
       "        -1.02933638e+02, -8.97008269e+01, -9.07339042e+01,\n",
       "        -6.17413480e+01, -3.27518327e+01, -7.61539603e+00,\n",
       "        -8.57006913e-01,  0.00000000e+00,  0.00000000e+00,\n",
       "         0.00000000e+00,  0.00000000e+00,  0.00000000e+00],\n",
       "       [ 0.00000000e+00,  0.00000000e+00,  0.00000000e+00,\n",
       "         0.00000000e+00,  0.00000000e+00,  0.00000000e+00,\n",
       "         0.00000000e+00,  1.53359923e+01,  3.22121154e+01,\n",
       "         7.09103446e+00, -5.22966114e+01, -6.80599744e+01,\n",
       "        -1.19482885e+02, -1.19016945e+02, -1.18631560e+02,\n",
       "        -9.24525378e+01, -6.12934714e+01, -3.56747521e+01,\n",
       "        -9.64723757e+00, -9.25567466e-01,  0.00000000e+00,\n",
       "         0.00000000e+00,  0.00000000e+00,  0.00000000e+00],\n",
       "       [ 0.00000000e+00,  0.00000000e+00,  0.00000000e+00,\n",
       "         0.00000000e+00,  0.00000000e+00,  0.00000000e+00,\n",
       "         0.00000000e+00,  1.20636739e+00,  2.13205660e+01,\n",
       "         3.38097423e+01,  4.23659864e-01, -2.99431166e+01,\n",
       "        -6.05877717e+01, -1.21855989e+02, -1.21275514e+02,\n",
       "        -1.18557813e+02, -8.96470657e+01, -6.63390014e+01,\n",
       "        -3.46002089e+01, -7.18504703e+00,  0.00000000e+00,\n",
       "         0.00000000e+00,  0.00000000e+00,  0.00000000e+00],\n",
       "       [ 0.00000000e+00,  0.00000000e+00,  0.00000000e+00,\n",
       "         0.00000000e+00,  0.00000000e+00,  0.00000000e+00,\n",
       "         0.00000000e+00,  0.00000000e+00,  3.83844169e+00,\n",
       "         2.77145595e+01,  2.92460720e+01,  2.08749511e+01,\n",
       "         1.89487961e+01, -4.25420895e+01, -1.04122693e+02,\n",
       "        -1.49602498e+02, -1.26759769e+02, -9.42869729e+01,\n",
       "        -3.64036153e+01, -2.03255137e+01, -2.19393770e+00,\n",
       "         0.00000000e+00,  0.00000000e+00,  0.00000000e+00],\n",
       "       [ 0.00000000e+00,  0.00000000e+00,  0.00000000e+00,\n",
       "         0.00000000e+00,  0.00000000e+00,  0.00000000e+00,\n",
       "         0.00000000e+00,  0.00000000e+00,  0.00000000e+00,\n",
       "         8.88325077e+00,  2.75251376e+01,  2.86483755e+01,\n",
       "         2.33209233e+01, -4.67528839e+01, -1.04878348e+02,\n",
       "        -1.71372520e+02, -1.46173583e+02, -1.05818359e+02,\n",
       "        -3.26235529e+01,  7.92134105e+00, -1.90473317e+00,\n",
       "         0.00000000e+00,  0.00000000e+00,  0.00000000e+00],\n",
       "       [ 0.00000000e+00,  0.00000000e+00,  0.00000000e+00,\n",
       "         0.00000000e+00,  0.00000000e+00,  0.00000000e+00,\n",
       "         0.00000000e+00,  0.00000000e+00, -4.89521133e-01,\n",
       "        -3.53472890e+00, -2.16801662e+01, -5.72553365e+01,\n",
       "        -1.03920912e+02, -1.38069307e+02, -1.55600741e+02,\n",
       "        -1.52604593e+02, -1.27163181e+02, -6.61399349e+01,\n",
       "        -2.46272172e+01,  1.27088628e+00,  5.99693797e+00,\n",
       "         0.00000000e+00,  0.00000000e+00,  0.00000000e+00],\n",
       "       [ 0.00000000e+00,  0.00000000e+00,  0.00000000e+00,\n",
       "         0.00000000e+00,  0.00000000e+00,  0.00000000e+00,\n",
       "        -3.01243774e-01, -2.46294421e+00, -2.08244731e+01,\n",
       "        -7.36477076e+01, -1.38897234e+02, -1.81393590e+02,\n",
       "        -1.87234515e+02, -1.75849867e+02, -1.87183219e+02,\n",
       "        -1.49374144e+02, -7.37457190e+01,  8.96182406e+00,\n",
       "         4.07976481e+01,  2.45384595e+01, -1.16814719e+00,\n",
       "         0.00000000e+00,  0.00000000e+00,  0.00000000e+00],\n",
       "       [ 0.00000000e+00,  0.00000000e+00,  0.00000000e+00,\n",
       "         0.00000000e+00, -2.88691950e-01, -1.81745515e+00,\n",
       "        -1.50411989e+01, -5.55462501e+01, -1.24345170e+02,\n",
       "        -1.76805027e+02, -1.97959952e+02, -2.08857929e+02,\n",
       "        -2.21292689e+02, -1.66323051e+02, -9.26985131e+01,\n",
       "        -2.47311836e+01,  8.72419682e+00,  3.47063352e+01,\n",
       "         3.97763922e+01,  3.92425457e+01,  5.08007264e+00,\n",
       "         0.00000000e+00,  0.00000000e+00,  0.00000000e+00],\n",
       "       [ 0.00000000e+00,  0.00000000e+00, -2.25932830e-01,\n",
       "        -2.92038910e+00, -1.85283504e+01, -6.23350030e+01,\n",
       "        -1.33815582e+02, -1.76029477e+02, -1.99603873e+02,\n",
       "        -2.03923403e+02, -2.12893710e+02, -1.80477288e+02,\n",
       "        -1.01269026e+02, -2.12233397e+01,  2.01875193e+01,\n",
       "         3.49207085e+01,  3.61791327e+01,  5.83736477e+01,\n",
       "         4.53761295e+01,  1.29100542e+01,  1.60077802e-01,\n",
       "         0.00000000e+00,  0.00000000e+00,  0.00000000e+00],\n",
       "       [-6.90350315e-01, -4.52399687e+00, -2.39766931e+01,\n",
       "        -9.16356186e+01, -1.47313513e+02, -1.89533167e+02,\n",
       "        -1.89978386e+02, -2.04270509e+02, -2.09508657e+02,\n",
       "        -1.93444956e+02, -1.12740890e+02, -3.12838665e+01,\n",
       "         1.88405778e+01,  4.54179247e+01,  6.88016409e+01,\n",
       "         7.98023110e+01,  5.58139123e+01,  4.20526290e+01,\n",
       "         3.67329558e+01,  1.45670800e+01,  0.00000000e+00,\n",
       "         0.00000000e+00,  0.00000000e+00,  0.00000000e+00],\n",
       "       [-1.43352093e+01, -5.37331329e+01, -1.11059840e+02,\n",
       "        -1.66038583e+02, -1.91742929e+02, -2.05204867e+02,\n",
       "        -2.12675239e+02, -1.76272208e+02, -1.14615217e+02,\n",
       "        -3.93741995e+01,  1.24443023e+01,  4.48340440e+01,\n",
       "         6.74298681e+01,  8.12273890e+01,  6.36818365e+01,\n",
       "         4.45134407e+01,  3.87276819e+01,  2.39214711e+01,\n",
       "         6.24303427e+00,  0.00000000e+00,  0.00000000e+00,\n",
       "         0.00000000e+00,  0.00000000e+00,  0.00000000e+00],\n",
       "       [-2.99352183e+01, -6.90745713e+01, -9.92065943e+01,\n",
       "        -1.12740595e+02, -1.12584422e+02, -8.20055667e+01,\n",
       "        -4.94980932e+01, -8.25440166e+00,  5.26070749e+00,\n",
       "         3.90756272e+01,  5.83998953e+01,  7.82699990e+01,\n",
       "         6.84096832e+01,  4.52862131e+01,  3.85586417e+01,\n",
       "         2.38326428e+01,  6.68510146e+00,  1.60077802e-01,\n",
       "         0.00000000e+00,  0.00000000e+00,  0.00000000e+00,\n",
       "         0.00000000e+00,  0.00000000e+00,  0.00000000e+00],\n",
       "       [ 3.65122458e+00,  3.54914562e-01, -9.56556114e+00,\n",
       "        -1.22810890e+01, -6.65156670e+00,  9.46869737e+00,\n",
       "         3.07715413e+01,  5.34130057e+01,  7.05901806e+01,\n",
       "         6.80910925e+01,  6.99414922e+01,  4.61745104e+01,\n",
       "         3.72783840e+01,  2.34380117e+01,  7.31188927e+00,\n",
       "         7.20350109e-01,  0.00000000e+00,  0.00000000e+00,\n",
       "         0.00000000e+00,  0.00000000e+00,  0.00000000e+00,\n",
       "         0.00000000e+00,  0.00000000e+00,  0.00000000e+00],\n",
       "       [ 7.16799702e+00,  1.75358680e+01,  2.65857012e+01,\n",
       "         4.17311738e+01,  5.64861524e+01,  6.94609209e+01,\n",
       "         7.74758748e+01,  7.44816784e+01,  6.56175369e+01,\n",
       "         4.82047640e+01,  4.22569751e+01,  3.26023854e+01,\n",
       "         1.17559015e+01,  8.80427910e-01,  0.00000000e+00,\n",
       "         0.00000000e+00,  0.00000000e+00,  0.00000000e+00,\n",
       "         0.00000000e+00,  0.00000000e+00,  0.00000000e+00,\n",
       "         0.00000000e+00,  0.00000000e+00,  0.00000000e+00]])"
      ]
     },
     "metadata": {},
     "output_type": "display_data"
    },
    {
     "data": {
      "text/plain": [
       "'Output Image of N1'"
      ]
     },
     "metadata": {},
     "output_type": "display_data"
    },
    {
     "data": {
      "image/png": "[encoded data removed]",
      "text/plain": [
       "<IPython.core.display.Image object>"
      ]
     },
     "metadata": {
      "image/png": {
       "height": 224,
       "width": 224
      }
     },
     "output_type": "display_data"
    },
    {
     "data": {
      "text/plain": [
       "'Output Image of N2'"
      ]
     },
     "metadata": {},
     "output_type": "display_data"
    },
    {
     "data": {
      "image/png": "[encoded data removed]",
      "text/plain": [
       "<IPython.core.display.Image object>"
      ]
     },
     "metadata": {
      "image/png": {
       "height": 224,
       "width": 224
      }
     },
     "output_type": "display_data"
    },
    {
     "data": {
      "text/plain": [
       "'Output Image of N3'"
      ]
     },
     "metadata": {},
     "output_type": "display_data"
    },
    {
     "data": {
      "image/png": "[encoded data removed]",
      "text/plain": [
       "<IPython.core.display.Image object>"
      ]
     },
     "metadata": {
      "image/png": {
       "height": 224,
       "width": 224
      }
     },
     "output_type": "display_data"
    },
    {
     "data": {
      "text/plain": [
       "'Output Image of N4'"
      ]
     },
     "metadata": {},
     "output_type": "display_data"
    },
    {
     "data": {
      "image/png": "[encoded data removed]",
      "text/plain": [
       "<IPython.core.display.Image object>"
      ]
     },
     "metadata": {
      "image/png": {
       "height": 224,
       "width": 224
      }
     },
     "output_type": "display_data"
    },
    {
     "data": {
      "text/plain": [
       "'Output Image of N5'"
      ]
     },
     "metadata": {},
     "output_type": "display_data"
    },
    {
     "data": {
      "image/png": "[encoded data removed]",
      "text/plain": [
       "<IPython.core.display.Image object>"
      ]
     },
     "metadata": {
      "image/png": {
       "height": 224,
       "width": 224
      }
     },
     "output_type": "display_data"
    },
    {
     "data": {
      "text/plain": [
       "'Output Image of N6'"
      ]
     },
     "metadata": {},
     "output_type": "display_data"
    },
    {
     "data": {
      "image/png": "[encoded data removed]",
      "text/plain": [
       "<IPython.core.display.Image object>"
      ]
     },
     "metadata": {
      "image/png": {
       "height": 224,
       "width": 224
      }
     },
     "output_type": "display_data"
    },
    {
     "data": {
      "text/plain": [
       "'Output Image of N7'"
      ]
     },
     "metadata": {},
     "output_type": "display_data"
    },
    {
     "data": {
      "image/png": "[encoded data removed]",
      "text/plain": [
       "<IPython.core.display.Image object>"
      ]
     },
     "metadata": {
      "image/png": {
       "height": 224,
       "width": 224
      }
     },
     "output_type": "display_data"
    },
    {
     "data": {
      "text/plain": [
       "'Output Image of N8'"
      ]
     },
     "metadata": {},
     "output_type": "display_data"
    },
    {
     "data": {
      "image/png": "[encoded data removed]",
      "text/plain": [
       "<IPython.core.display.Image object>"
      ]
     },
     "metadata": {
      "image/png": {
       "height": 224,
       "width": 224
      }
     },
     "output_type": "display_data"
    }
   ],
   "source": [
    "# Let's do it! (our first convolution that is)\n",
    "# y1=0+5\n",
    "# x1=25+5\n",
    "\n",
    "for each_nureon_L1 in range(filter1_nuron_size): # Perform 8 times (i.e. 8 filters)\n",
    "    current_column = output_column = 0\n",
    "    while current_column + filter1_columns <= image_width: # Filter is 5x5, prevent going over edges.\n",
    "        current_row = output_row = 0\n",
    "        while current_row + filter1_rows <= image_height:\n",
    "            layer1_images_3d[each_nureon_L1, output_column, output_row] = numpy.sum(\n",
    "                filter1[each_nureon_L1] * d3_array_of_images[:,current_column: current_column + filter1_columns, \n",
    "                current_row: current_row + filter1_columns]\n",
    "                ) + filter1_bias[each_nureon_L1]\n",
    "            current_row += filter_stride\n",
    "            output_row += 1\n",
    "        current_column += filter_stride\n",
    "        output_column += 1\n",
    "#         display(\"Sum of entire output array:\" ,numpy.sum(layer1_images_3d))\n",
    "        \n",
    "display(\"Output array shape after:\" , numpy.shape(layer1_images_3d))\n",
    "display(\"Did anything change in our array? \",layer1_images_3d[0])\n",
    "_,an_image = cv2.imencode('.png', layer1_images_3d[0])\n",
    "IPython.display.display(\"Output Image of N1\", IPython.display.Image(data=an_image, width=224, height=224))\n",
    "_,an_image = cv2.imencode('.png', layer1_images_3d[1])\n",
    "IPython.display.display(\"Output Image of N2\", IPython.display.Image(data=an_image, width=224, height=224))\n",
    "_,an_image = cv2.imencode('.png', layer1_images_3d[2])\n",
    "IPython.display.display(\"Output Image of N3\", IPython.display.Image(data=an_image, width=224, height=224))\n",
    "_,an_image = cv2.imencode('.png', layer1_images_3d[3])\n",
    "IPython.display.display(\"Output Image of N4\", IPython.display.Image(data=an_image, width=224, height=224))\n",
    "_,an_image = cv2.imencode('.png', layer1_images_3d[4])\n",
    "IPython.display.display(\"Output Image of N5\", IPython.display.Image(data=an_image, width=224, height=224))\n",
    "_,an_image = cv2.imencode('.png', layer1_images_3d[5])\n",
    "IPython.display.display(\"Output Image of N6\", IPython.display.Image(data=an_image, width=224, height=224))\n",
    "_,an_image = cv2.imencode('.png', layer1_images_3d[6])\n",
    "IPython.display.display(\"Output Image of N7\", IPython.display.Image(data=an_image, width=224, height=224))\n",
    "_,an_image = cv2.imencode('.png', layer1_images_3d[7])\n",
    "IPython.display.display(\"Output Image of N8\", IPython.display.Image(data=an_image, width=224, height=224))"
   ]
  },
  {
   "cell_type": "markdown",
   "id": "201f6eee",
   "metadata": {},
   "source": [
    "# The ReLU function\n",
    "![ReLU Function](images/ReLU_Function.png)\n",
    "Now, apply the ReLu function (Rectified Linear Unit) to the results.  \n",
    "Values that are less than or equal to zero become zero and all positive values remain the same.\n"
   ]
  },
  {
   "cell_type": "code",
   "execution_count": 10,
   "id": "38ec4ef5",
   "metadata": {
    "scrolled": false
   },
   "outputs": [],
   "source": [
    "# Normalize the data\n",
    "# display(\"Input for comparison \",layer1_images_3d[0])\n",
    "\n",
    "layer1_images_3d[layer1_images_3d<=0] = 0\n",
    "\n",
    "# display(\"Did anything change in our array? \",layer1_images_3d[0])\n",
    "# display(\"Output array shape after x iterations:\" , numpy.shape(layer1_images_3d))\n",
    "# _,an_image = cv2.imencode('.png', layer1_images_3d[0])\n",
    "# IPython.display.display(\"Output Image of N1\", IPython.display.Image(data=an_image, width=224, height=224))\n",
    "# _,an_image = cv2.imencode('.png', layer1_images_3d[1])\n",
    "# IPython.display.display(\"Output Image of N2\", IPython.display.Image(data=an_image, width=224, height=224))\n",
    "# _,an_image = cv2.imencode('.png', layer1_images_3d[2])\n",
    "# IPython.display.display(\"Output Image of N3\", IPython.display.Image(data=an_image, width=224, height=224))\n",
    "# _,an_image = cv2.imencode('.png', layer1_images_3d[3])\n",
    "# IPython.display.display(\"Output Image of N4\", IPython.display.Image(data=an_image, width=224, height=224))\n",
    "# _,an_image = cv2.imencode('.png', layer1_images_3d[4])\n",
    "# IPython.display.display(\"Output Image of N5\", IPython.display.Image(data=an_image, width=224, height=224))\n",
    "# _,an_image = cv2.imencode('.png', layer1_images_3d[5])\n",
    "# IPython.display.display(\"Output Image of N6\", IPython.display.Image(data=an_image, width=224, height=224))\n",
    "# _,an_image = cv2.imencode('.png', layer1_images_3d[6])\n",
    "# IPython.display.display(\"Output Image of N7\", IPython.display.Image(data=an_image, width=224, height=224))\n",
    "# _,an_image = cv2.imencode('.png', layer1_images_3d[7])\n",
    "# IPython.display.display(\"Output Image of N8\", IPython.display.Image(data=an_image, width=224, height=224))"
   ]
  },
  {
   "cell_type": "markdown",
   "id": "36067008",
   "metadata": {},
   "source": [
    "# Max Pooling / Down sampling\n",
    "Ideally you would apply additional filters/convolutions before this point.  \n",
    "For brevity, we'll skip to down sampling\n",
    "\n",
    "This will take the max of a 2x2 matrix (kernal_size x max_pool_stride)  and convert it to a single cell.\n",
    "\n",
    "![max pooling](images/max_pooling_down_sampling.gif)"
   ]
  },
  {
   "cell_type": "code",
   "execution_count": 11,
   "id": "adb26c93",
   "metadata": {},
   "outputs": [
    {
     "name": "stdout",
     "output_type": "stream",
     "text": [
      "Old height & width  28  &  28\n",
      "New height & width  14  &  14\n"
     ]
    },
    {
     "data": {
      "text/plain": [
       "'Max Pooled / down sampled array (after 1st convolution)'"
      ]
     },
     "metadata": {},
     "output_type": "display_data"
    },
    {
     "data": {
      "text/plain": [
       "(8, 14, 14)"
      ]
     },
     "metadata": {},
     "output_type": "display_data"
    }
   ],
   "source": [
    "# Down sampling\n",
    "#number_of_images, image_height, image_width\n",
    "kernel_size = 2\n",
    "max_pool_stride = 2\n",
    "#Dimensions after down sampling / max pooling\n",
    "max_pool_height = int((image_height - kernel_size)/max_pool_stride)+1\n",
    "max_pool_width  = int((image_width  - kernel_size)/max_pool_stride)+1\n",
    "print(\"Old height & width \", image_height, \" & \",image_width)\n",
    "print(\"New height & width \", max_pool_height, \" & \", max_pool_width)\n",
    "\n",
    "max_pool_images_3d = numpy.zeros((filter1_nuron_size, max_pool_height, max_pool_width))\n",
    "  \n",
    "for each_nureon_L1 in range(filter1_nuron_size): # Perform 8 times (i.e. 8 filters)\n",
    "    current_rows = out_rows = 0\n",
    "    # Slide the max pooling windows vertially across the image\n",
    "    while current_rows + kernel_size <= max_pool_height:\n",
    "        current_columns = out_columns = 0\n",
    "        # Slide the max pooling windows horzontally across the image\n",
    "        while current_columns + kernel_size <= max_pool_width:\n",
    "            # Choose the max value within the window\n",
    "#             print(\"On image: \",each_nureon_L1,\" height: \",current_rows, \" width: \",current_columns)\n",
    "            max_pool_images_3d[each_nureon_L1, out_rows, out_columns] = \\\n",
    "               numpy.max(layer1_images_3d[each_nureon_L1, current_rows:current_rows+kernel_size, current_columns:current_columns+kernel_size])\n",
    "            current_columns += max_pool_stride\n",
    "            out_columns += 1\n",
    "        current_rows += max_pool_stride\n",
    "        out_columns  += 1\n",
    "\n",
    "display(\"Max Pooled / down sampled array (after 1st convolution)\", numpy.shape(max_pool_images_3d))"
   ]
  },
  {
   "cell_type": "markdown",
   "id": "88cd1857",
   "metadata": {},
   "source": [
    "# Combine and Flatten all 8 instances of the previous layer into a 1d array.\n",
    "\n",
    "![fully-connected layer](images/fully_connected_layer.png)"
   ]
  },
  {
   "cell_type": "code",
   "execution_count": 12,
   "id": "fb2edb49",
   "metadata": {
    "scrolled": false
   },
   "outputs": [
    {
     "data": {
      "text/plain": [
       "'Prev Layer, flattened shape: '"
      ]
     },
     "metadata": {},
     "output_type": "display_data"
    },
    {
     "data": {
      "text/plain": [
       "(1, 1568)"
      ]
     },
     "metadata": {},
     "output_type": "display_data"
    },
    {
     "data": {
      "text/plain": [
       "'Prev Layer, flattened, first 10 pixals of layer'"
      ]
     },
     "metadata": {},
     "output_type": "display_data"
    },
    {
     "data": {
      "text/plain": [
       "array([ 0.        ,  0.        ,  0.        ,  1.20636739, 33.80974233,\n",
       "       29.24607199, 18.94879606,  0.        ,  0.        ,  0.        ])"
      ]
     },
     "metadata": {},
     "output_type": "display_data"
    }
   ],
   "source": [
    "# Flatten the last layer before predictions are made\n",
    "(max_pool_nodes, max_pool_width, max_pool_height) = max_pool_images_3d.shape\n",
    "flattened_layer = max_pool_images_3d.reshape((1, max_pool_nodes * max_pool_width * max_pool_height))\n",
    "\n",
    "(_, new_pixels_per_node) = numpy.shape(flattened_layer)\n",
    "display(\"Prev Layer, flattened shape: \", numpy.shape(flattened_layer))\n",
    "display(\"Prev Layer, flattened, first 10 pixals of layer\",flattened_layer[0,0:10])"
   ]
  },
  {
   "cell_type": "markdown",
   "id": "8fb17f15",
   "metadata": {},
   "source": [
    "# Predictions\n",
    "\n",
    "A prediction is done with weights and biases\n",
    "\n",
    "To calculate the prediction\n",
    "\n",
    "preform a dot product of (previous flattened layer & the weights) + the biases\n",
    "\n",
    "The result isn't in percentage form, and will need to go through further processing to make sense of them."
   ]
  },
  {
   "cell_type": "code",
   "execution_count": 13,
   "id": "c5a3c06e",
   "metadata": {},
   "outputs": [
    {
     "data": {
      "text/plain": [
       "'What is the shape of the weights array: '"
      ]
     },
     "metadata": {},
     "output_type": "display_data"
    },
    {
     "data": {
      "text/plain": [
       "(1568, 10)"
      ]
     },
     "metadata": {},
     "output_type": "display_data"
    },
    {
     "data": {
      "text/plain": [
       "'What do the weights look like (1st entry): '"
      ]
     },
     "metadata": {},
     "output_type": "display_data"
    },
    {
     "data": {
      "text/plain": [
       "array([-3.34158220e-05, -1.61998907e-02, -1.28964930e-02,  1.34449107e-02,\n",
       "        1.13523178e-02,  7.93244973e-03,  8.71804621e-04, -8.28962569e-03,\n",
       "        1.86347100e-03,  5.74132610e-03])"
      ]
     },
     "metadata": {},
     "output_type": "display_data"
    },
    {
     "data": {
      "text/plain": [
       "'What is the shape of the MR bias array: '"
      ]
     },
     "metadata": {},
     "output_type": "display_data"
    },
    {
     "data": {
      "text/plain": [
       "(1, 10)"
      ]
     },
     "metadata": {},
     "output_type": "display_data"
    },
    {
     "data": {
      "text/plain": [
       "'What does the bias look like (1st entry): '"
      ]
     },
     "metadata": {},
     "output_type": "display_data"
    },
    {
     "data": {
      "text/plain": [
       "array([-0.00839651,  0.00537921, -0.00015442, -0.0133933 , -0.01703193,\n",
       "       -0.01131082, -0.01152201, -0.02705437, -0.02258369, -0.00739881])"
      ]
     },
     "metadata": {},
     "output_type": "display_data"
    },
    {
     "data": {
      "text/plain": [
       "'What is the shape of the connected_layer_predictions array: '"
      ]
     },
     "metadata": {},
     "output_type": "display_data"
    },
    {
     "data": {
      "text/plain": [
       "(1, 10)"
      ]
     },
     "metadata": {},
     "output_type": "display_data"
    },
    {
     "data": {
      "text/plain": [
       "'What does the connected_layer_predictions look like: '"
      ]
     },
     "metadata": {},
     "output_type": "display_data"
    },
    {
     "data": {
      "text/plain": [
       "array([[-1.7999346 ,  0.94741722,  1.96200755, -0.85250558, -0.20808445,\n",
       "        -2.21651575,  1.02659415, -0.80018013,  2.68303293,  0.45662072]])"
      ]
     },
     "metadata": {},
     "output_type": "display_data"
    }
   ],
   "source": [
    "# Prediction (i.e. Does this nuron fire or not. One nuron per expected result)\n",
    "#Now, fully connect (i.e. transpose into final layer of 10 predictions. One for each number we are trying to predict)\n",
    "\n",
    "# # Initializing 'smart' weights\n",
    "# '''\n",
    "#     Initialize weights with a random normal distribution\n",
    "# '''\n",
    "# weight_multiplier = 0.01 #i.e. sigma\n",
    "# weight1 = numpy.random.standard_normal(size=filter1_dimensions) * weight_multiplier\n",
    "# display(\"The weights: \", weight1)\n",
    "\n",
    "mu = 0\n",
    "sigma = 0.01\n",
    "input_size = new_pixels_per_node #YES! make this equal to number of bytes per node from previous flattening!\n",
    "output_size = 10 # ==> number of predictions\n",
    "\n",
    "# Weights size = pixels x filters (i.e. 196 x 10) Every pixel is going to have a % chance to be a 1-10\n",
    "weights = numpy.random.normal(mu, sigma, (input_size, output_size))\n",
    "display(\"What is the shape of the weights array: \", numpy.shape(weights))\n",
    "display(\"What do the weights look like (1st entry): \",weights[0])\n",
    "\n",
    "#Bias size 1 x 10 (Are these the biases per 1-10 prediction?)\n",
    "biases = numpy.random.normal(mu, sigma, (1, output_size))\n",
    "display(\"What is the shape of the MR bias array: \", numpy.shape(biases))\n",
    "display(\"What does the bias look like (1st entry): \",biases[0])\n",
    "\n",
    "# A rough estimate of predictions that still need to be run through a 'soft max' function to make more sense\n",
    "connected_layer_predictions = numpy.dot(flattened_layer, weights) + biases\n",
    "display(\"What is the shape of the connected_layer_predictions array: \", numpy.shape(connected_layer_predictions))\n",
    "display(\"What does the connected_layer_predictions look like: \",connected_layer_predictions)"
   ]
  },
  {
   "cell_type": "markdown",
   "id": "d85d282d",
   "metadata": {},
   "source": [
    "# Create predictions\n",
    "Leveraging the \"Softmax Activation Function\"\n",
    "![Softmax Activation Function](images/softmax_activation_function.png)"
   ]
  },
  {
   "cell_type": "code",
   "execution_count": 14,
   "id": "8edbb547",
   "metadata": {},
   "outputs": [
    {
     "data": {
      "text/plain": [
       "'Final Preditions! '"
      ]
     },
     "metadata": {},
     "output_type": "display_data"
    },
    {
     "data": {
      "text/plain": [
       "array([[0.0053927 , 0.08413297, 0.23205835, 0.01390816, 0.02649343,\n",
       "        0.00355539, 0.09106517, 0.01465529, 0.47723748, 0.05150104]])"
      ]
     },
     "metadata": {},
     "output_type": "display_data"
    }
   ],
   "source": [
    "\n",
    "# Do a soft max (get the numbers into percentage form)\n",
    "exp_of_conneted_layer_predictions = numpy.exp(connected_layer_predictions)\n",
    "\n",
    "predictions = exp_of_conneted_layer_predictions / numpy.sum(exp_of_conneted_layer_predictions)\n",
    "display(\"Final Preditions! \", predictions)\n",
    "\n",
    "# exponent_of_weight1 = numpy.exp(weight1)\n",
    "# predictions = exponent_of_weight1/numpy.sum(exponent_of_weight1)\n",
    "\n",
    "# display(\"Final Predictions: \", predictions)"
   ]
  },
  {
   "cell_type": "code",
   "execution_count": 15,
   "id": "a4593f58",
   "metadata": {},
   "outputs": [
    {
     "data": {
      "text/plain": [
       "'Which Image Present: '"
      ]
     },
     "metadata": {},
     "output_type": "display_data"
    },
    {
     "data": {
      "text/plain": [
       "(10, 1)"
      ]
     },
     "metadata": {},
     "output_type": "display_data"
    },
    {
     "data": {
      "text/plain": [
       "array([[0.],\n",
       "       [0.],\n",
       "       [0.],\n",
       "       [0.],\n",
       "       [0.],\n",
       "       [1.],\n",
       "       [0.],\n",
       "       [0.],\n",
       "       [0.],\n",
       "       [0.]])"
      ]
     },
     "metadata": {},
     "output_type": "display_data"
    },
    {
     "data": {
      "text/plain": [
       "'log: '"
      ]
     },
     "metadata": {},
     "output_type": "display_data"
    },
    {
     "data": {
      "text/plain": [
       "array([[-5.22270857, -2.47535674, -1.46076642, -4.27527955, -3.63085842,\n",
       "        -5.63928972, -2.39617982, -4.22295409, -0.73974104, -2.96615325]])"
      ]
     },
     "metadata": {},
     "output_type": "display_data"
    },
    {
     "data": {
      "text/plain": [
       "'The loss logarithm: '"
      ]
     },
     "metadata": {},
     "output_type": "display_data"
    },
    {
     "data": {
      "text/plain": [
       "33.0292876202119"
      ]
     },
     "metadata": {},
     "output_type": "display_data"
    }
   ],
   "source": [
    "\n",
    "# Convert label data into binary on/off switch of which digit is present\n",
    "# i.e. for the number 5, flip the entry for the 5th digit in the array of 10 numbers [0,0,0,0,0,1,0,0,0,0]\n",
    "# for i in range(batch_size):\n",
    "\n",
    "total_images_to_predict = 10\n",
    "processing_this_image_in_array = 0\n",
    "array_of_which_image_present = numpy.eye(total_images_to_predict)[int(d2_array_of_labels[processing_this_image_in_array])].reshape(total_images_to_predict, 1) # convert label to one-hot\n",
    "display(\"Which Image Present: \",numpy.shape(array_of_which_image_present), array_of_which_image_present)\n",
    "\n",
    "# # My Calculated loss\n",
    "# # [0,0,0,0,0,1,0,0,0,0]\n",
    "# inverse_array_of_label = [1],[1],[1],[1],[1],[0],[1],[1],[1],[1]\n",
    "# my_loss_percentage = 10*numpy.sum(inverse_array_of_label * predictions)\n",
    "# display(\"My loss %: \", my_loss_percentage)\n",
    "\n",
    "# array_of_label = [0],[0],[0],[0],[0],[1],[0],[0],[0],[0]\n",
    "# display(\"My array\",array_of_label)\n",
    "# display(\"Shape of my array \", numpy.shape(array_of_label))\n",
    "\n",
    "# Actual log analysis of the loss\n",
    "display(\"log: \", numpy.log(predictions))\n",
    "loss_logarithm = -numpy.sum(array_of_which_image_present * numpy.log(predictions))\n",
    "display(\"The loss logarithm: \", loss_logarithm)\n"
   ]
  },
  {
   "cell_type": "markdown",
   "id": "5267fe11",
   "metadata": {},
   "source": [
    "# Backwards Propagation!"
   ]
  },
  {
   "cell_type": "code",
   "execution_count": 16,
   "id": "a67490e3",
   "metadata": {},
   "outputs": [
    {
     "data": {
      "text/plain": [
       "'loss_of_last_layer shape'"
      ]
     },
     "metadata": {},
     "output_type": "display_data"
    },
    {
     "data": {
      "text/plain": [
       "(1568, 10)"
      ]
     },
     "metadata": {},
     "output_type": "display_data"
    },
    {
     "data": {
      "text/plain": [
       "'loss_of_bias shape'"
      ]
     },
     "metadata": {},
     "output_type": "display_data"
    },
    {
     "data": {
      "text/plain": [
       "(1, 10)"
      ]
     },
     "metadata": {},
     "output_type": "display_data"
    },
    {
     "data": {
      "text/plain": [
       "'loss_input shape'"
      ]
     },
     "metadata": {},
     "output_type": "display_data"
    },
    {
     "data": {
      "text/plain": [
       "(1, 1568)"
      ]
     },
     "metadata": {},
     "output_type": "display_data"
    }
   ],
   "source": [
    "# Backwards propagation\n",
    "## Reverse Fully Conneted (1x10 matrix of probabilities. % prediction per label)\n",
    "#  <== 'predictions' matrix\n",
    "## Reverse Flatten\n",
    "\n",
    "\n",
    "# Predictions applied to weights and biases\n",
    "learning_rate = 0.01\n",
    "\n",
    "# Transpose flattened layer and multiple by predictions.\n",
    "loss_of_last_layer = flattened_layer.T @ predictions # ==> 1586 x 10\n",
    "display(\"loss_of_last_layer shape\",numpy.shape(loss_of_last_layer))\n",
    "\n",
    "loss_of_bias = biases * predictions\n",
    "display(\"loss_of_bias shape\",numpy.shape(loss_of_bias))\n",
    "\n",
    "loss_input = (weights @ predictions.T).reshape(flattened_layer.shape)\n",
    "display(\"loss_input shape\",numpy.shape(loss_input))\n",
    "\n",
    "weights -= learning_rate * loss_of_last_layer\n",
    "biases  -= learning_rate * loss_of_bias\n"
   ]
  },
  {
   "cell_type": "code",
   "execution_count": 17,
   "id": "7d9c9fe3",
   "metadata": {},
   "outputs": [
    {
     "data": {
      "text/plain": [
       "'loss_input_unflat shape'"
      ]
     },
     "metadata": {},
     "output_type": "display_data"
    },
    {
     "data": {
      "text/plain": [
       "(8, 14, 14)"
      ]
     },
     "metadata": {},
     "output_type": "display_data"
    }
   ],
   "source": [
    "# Reverse Flatten (convert flattened losses back into ouptput of filters i.e. previous layer)\n",
    "loss_input_unflat = loss_input.reshape(max_pool_images_3d.shape)\n",
    "display(\"loss_input_unflat shape\",numpy.shape(loss_input_unflat))\n"
   ]
  },
  {
   "cell_type": "code",
   "execution_count": 18,
   "id": "c7ad2134",
   "metadata": {},
   "outputs": [
    {
     "name": "stdout",
     "output_type": "stream",
     "text": [
      "Old shape  (8, 14, 14)\n",
      "New shape  (8, 24, 24)\n"
     ]
    },
    {
     "data": {
      "text/plain": [
       "'Results (shape): '"
      ]
     },
     "metadata": {},
     "output_type": "display_data"
    },
    {
     "data": {
      "text/plain": [
       "(8, 24, 24)"
      ]
     },
     "metadata": {},
     "output_type": "display_data"
    }
   ],
   "source": [
    "# Reverse Max Pooling\n",
    "\n",
    "def find_max(pooling_size, feature_map_index, row_start, col_start):\n",
    "        \"\"\"\n",
    "        :param row_start: int\n",
    "        :param col_start: int\n",
    "        :return: max value within pool range\n",
    "        \"\"\"\n",
    "        activated_matrix = layer1_images_3d\n",
    "        activated_matrix_shape = activated_matrix.shape\n",
    "        activated_matrix_height = activated_matrix_shape[1]\n",
    "        activated_matrix_width = activated_matrix_shape[2]\n",
    "\n",
    "        maximum = 0\n",
    "        maximum_location = (row_start, col_start)\n",
    "        for y in range(0, pooling_size):\n",
    "            for x in range(0, pooling_size):\n",
    "                if (\n",
    "                    row_start + y < activated_matrix_height\n",
    "                    and col_start + x < activated_matrix_width\n",
    "                ):\n",
    "                    if (\n",
    "                        activated_matrix[feature_map_index][y + row_start][\n",
    "                            x + col_start\n",
    "                        ]\n",
    "                        > maximum\n",
    "                    ):\n",
    "                        maximum = activated_matrix[feature_map_index][y + row_start][\n",
    "                            x + col_start\n",
    "                        ]\n",
    "                        maximum_location = (y + row_start, x + col_start)\n",
    "\n",
    "        return maximum, maximum_location\n",
    "\n",
    "kernel_size = 2\n",
    "max_pool_stride = 2\n",
    "#Dimensions after down sampling / max pooling\n",
    "\n",
    "_, rev_max_pool_height, rev_max_pool_width = layer1_images_3d.shape\n",
    "\n",
    "print(\"Old shape \", max_pool_images_3d.shape )\n",
    "print(\"New shape \", layer1_images_3d.shape )\n",
    "\n",
    "rev_max_pool_images_3d = numpy.zeros((filter1_nuron_size, rev_max_pool_height, rev_max_pool_width))\n",
    "  \n",
    "for feature_map_index in range(filter1_nuron_size): # Perform 8 times (i.e. 8 filters)\n",
    "    current_rows = out_rows = 0\n",
    "    # Slide the max pooling windows vertially across the image\n",
    "    while current_rows + kernel_size <= rev_max_pool_height:\n",
    "        current_columns = out_width = 0\n",
    "        # Slide the max pooling windows horzontally across the image\n",
    "        while current_columns + kernel_size <= rev_max_pool_width:\n",
    "            gradient_to_extract = rev_max_pool_images_3d[feature_map_index][current_rows][current_columns]\n",
    "            _ , max_location = find_max(max_pool_stride, feature_map_index, current_rows, current_rows)\n",
    "            \n",
    "            max_row, max_col = max_location\n",
    "            \n",
    "            rev_max_pool_images_3d[feature_map_index][max_row][max_col] = gradient_to_extract\n",
    "            current_columns += 1\n",
    "        current_rows += 1\n",
    "        current_columns = 0\n",
    "\n",
    "display(\"Results (shape): \", rev_max_pool_images_3d.shape) # d_loss_d_input"
   ]
  },
  {
   "cell_type": "code",
   "execution_count": 19,
   "id": "85af9a06",
   "metadata": {},
   "outputs": [
    {
     "data": {
      "text/plain": [
       "'Output filter shape:'"
      ]
     },
     "metadata": {},
     "output_type": "display_data"
    },
    {
     "data": {
      "text/plain": [
       "(8, 1, 5, 5)"
      ]
     },
     "metadata": {},
     "output_type": "display_data"
    }
   ],
   "source": [
    "# Reverse Convolution\n",
    "output_matrix_depth, output_matrix_height, output_matrix_width = rev_max_pool_images_3d.shape\n",
    "\n",
    "rev_filter1 = numpy.zeros(filter1.shape)\n",
    "#filter1_bias\n",
    "\n",
    "def apply_d_output(input_matrix, gradient_at_location, current_output_row, current_output_col):\n",
    "    filter_partials_to_return = numpy.zeros(filter1[0].shape)\n",
    "\n",
    "    for depth in range(filter1_depth):\n",
    "        for row in range(filter1_rows):\n",
    "            for col in range(filter1_columns):\n",
    "                input_value = input_matrix[depth][current_output_row + row][\n",
    "                    current_output_col + col\n",
    "                ]\n",
    "                filter_partials_to_return[depth][row][col] = (\n",
    "                    gradient_at_location * input_value\n",
    "                )\n",
    "\n",
    "    return filter_partials_to_return\n",
    "\n",
    "# walk each kernel over original input\n",
    "for current_feature_map in range(output_matrix_depth):\n",
    "    for current_row in range(output_matrix_height):\n",
    "        for current_col in range(output_matrix_width):\n",
    "            current_gradient = rev_max_pool_images_3d[current_feature_map][current_row][current_col]\n",
    "            applied_gradient = apply_d_output(d3_array_of_images, current_gradient, current_row, current_col)\n",
    "            rev_filter1[current_feature_map] += applied_gradient\n",
    "\n",
    "display(\"Output filter shape:\", rev_filter1.shape)\n",
    "# update kernels/filter by learning rate and d_loss_d_filters\n",
    "filter1 -= learning_rate * rev_filter1\n",
    "        "
   ]
  }
 ],
 "metadata": {
  "kernelspec": {
   "display_name": "Python 3 (ipykernel)",
   "language": "python",
   "name": "python3"
  },
  "language_info": {
   "codemirror_mode": {
    "name": "ipython",
    "version": 3
   },
   "file_extension": ".py",
   "mimetype": "text/x-python",
   "name": "python",
   "nbconvert_exporter": "python",
   "pygments_lexer": "ipython3",
   "version": "3.8.9"
  }
 },
 "nbformat": 4,
 "nbformat_minor": 5
}
